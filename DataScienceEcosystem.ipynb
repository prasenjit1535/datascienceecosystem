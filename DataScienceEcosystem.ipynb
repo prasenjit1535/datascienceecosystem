{
 "cells": [
  {
   "cell_type": "code",
   "execution_count": null,
   "id": "a61cf1f4-06c0-4d9e-9561-b928e79cb034",
   "metadata": {},
   "outputs": [],
   "source": [
    "# Data Science Tools and Ecosystem"
   ]
  },
  {
   "cell_type": "code",
   "execution_count": null,
   "id": "1a3268b8-8a4c-4a13-8718-e87d3f71e740",
   "metadata": {},
   "outputs": [],
   "source": [
    "In this notebook, Data Science Tools and Ecosystem are summarized."
   ]
  },
  {
   "cell_type": "code",
   "execution_count": null,
   "id": "e5281ba6-b4d4-4da6-bb08-a96ed2dbb868",
   "metadata": {},
   "outputs": [],
   "source": [
    "Some of the popular languages that Data Scientists use are:\n",
    "\n",
    "1. Python  \n",
    "2. R  \n",
    "3. SQL  \n",
    "4. Java  \n",
    "5. Julia  \n"
   ]
  },
  {
   "cell_type": "code",
   "execution_count": null,
   "id": "4e4a72f0-5cfa-4fc6-90ab-4ae7bd7dc2a3",
   "metadata": {
    "scrolled": true
   },
   "outputs": [],
   "source": [
    "Some of the commonly used libraries used by Data Scientists include:\n",
    "\n",
    "1. Pandas  \n",
    "2. NumPy  \n",
    "3. Matplotlib  \n",
    "4. Scikit-learn  \n",
    "5. TensorFlow  "
   ]
  },
  {
   "cell_type": "code",
   "execution_count": null,
   "id": "cf6288cb-be32-4858-9e45-99afa4dd066d",
   "metadata": {},
   "outputs": [],
   "source": [
    "| Data Science Tools       |\n",
    "|---------------------------|\n",
    "| Jupyter Notebook          |\n",
    "| RStudio                   |\n",
    "| Apache Zeppelin           |"
   ]
  },
  {
   "cell_type": "code",
   "execution_count": null,
   "id": "c55fde65-2bc1-4f26-85df-4cae365b16a8",
   "metadata": {},
   "outputs": [],
   "source": [
    "### Below are a few examples of evaluating arithmetic expressions in Python.\n",
    "\n",
    "1. Addition: `5 + 3` evaluates to `8`.\n",
    "2. Subtraction: `10 - 4` evaluates to `6`.\n",
    "3. Multiplication: `7 * 2` evaluates to `14`.\n",
    "4. Division: `20 / 5` evaluates to `4.0`.\n",
    "5. Exponentiation: `2 ** 3` evaluates to `8`.\n",
    "6. Modulus: `10 % 3` evaluates to `1`.\n"
   ]
  },
  {
   "cell_type": "code",
   "execution_count": 7,
   "id": "0262ff24-ad2d-4cd4-aac8-343ee80f0e10",
   "metadata": {},
   "outputs": [
    {
     "data": {
      "text/plain": [
       "17"
      ]
     },
     "execution_count": 7,
     "metadata": {},
     "output_type": "execute_result"
    }
   ],
   "source": [
    "# This is a simple arithmetic expression to multiply then add integers.\n",
    "(3 * 4) + 5\n"
   ]
  },
  {
   "cell_type": "code",
   "execution_count": 9,
   "id": "a46af706-6ebe-47f5-83ad-2e3945baa854",
   "metadata": {},
   "outputs": [
    {
     "data": {
      "text/plain": [
       "3.3333333333333335"
      ]
     },
     "execution_count": 9,
     "metadata": {},
     "output_type": "execute_result"
    }
   ],
   "source": [
    "# This will convert 200 minutes to hours by dividing by 60.\n",
    "200 / 60\n"
   ]
  },
  {
   "cell_type": "code",
   "execution_count": null,
   "id": "426c2ad3-a7df-4039-ae0c-5476d75348f3",
   "metadata": {},
   "outputs": [],
   "source": [
    "**Objectives:**\n",
    "\n",
    "- List popular languages for Data Science.  \n",
    "- Identify commonly used libraries in Data Science.  \n",
    "- Introduce open-source tools used for development in Data Science.  \n",
    "- Demonstrate examples of evaluating arithmetic expressions in Python.  \n",
    "- Convert units, such as minutes into hours, using Python expressions.  \n"
   ]
  },
  {
   "cell_type": "code",
   "execution_count": null,
   "id": "a5cc7473-1f92-4d34-8664-be48677b32b5",
   "metadata": {},
   "outputs": [],
   "source": [
    "## Author\n",
    "\n",
    "Prasenjit\n"
   ]
  }
 ],
 "metadata": {
  "kernelspec": {
   "display_name": "Python [conda env:base] *",
   "language": "python",
   "name": "conda-base-py"
  },
  "language_info": {
   "codemirror_mode": {
    "name": "ipython",
    "version": 3
   },
   "file_extension": ".py",
   "mimetype": "text/x-python",
   "name": "python",
   "nbconvert_exporter": "python",
   "pygments_lexer": "ipython3",
   "version": "3.12.7"
  }
 },
 "nbformat": 4,
 "nbformat_minor": 5
}
