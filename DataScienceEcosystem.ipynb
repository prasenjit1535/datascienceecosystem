{
 "cells": [
  {
   "cell_type": "markdown",
   "id": "e288751d-5d80-4ea4-843c-e5f0ecb2d736",
   "metadata": {},
   "source": [
    "# Data Science Tools and Ecosystem"
   ]
  },
  {
   "cell_type": "markdown",
   "id": "12baf1ac-09cd-41d7-86fc-734a5694f029",
   "metadata": {},
   "source": [
    "In this notebook, Data Science Tools and Ecosystem are summarized."
   ]
  },
  {
   "cell_type": "markdown",
   "id": "e0871ad8-aee5-42b6-88b4-204261490aa7",
   "metadata": {},
   "source": [
    "Some of the popular languages that Data Scientists use are:\n",
    "\n",
    "1. Python  \n",
    "2. R  \n",
    "3. SQL  \n",
    "4. Java  \n",
    "5. Julia  \n"
   ]
  },
  {
   "cell_type": "markdown",
   "id": "0e71e116-855f-419e-8c2a-d5f2863609d4",
   "metadata": {
    "scrolled": true
   },
   "source": [
    "Some of the commonly used libraries used by Data Scientists include:\n",
    "\n",
    "1. Pandas  \n",
    "2. NumPy  \n",
    "3. Matplotlib  \n",
    "4. Scikit-learn  \n",
    "5. TensorFlow  "
   ]
  },
  {
   "cell_type": "markdown",
   "id": "75fbfd99-19e5-48f8-afac-341a84634bd0",
   "metadata": {},
   "source": [
    "| Data Science Tools       |\n",
    "|---------------------------|\n",
    "| Jupyter Notebook          |\n",
    "| RStudio                   |\n",
    "| Apache Zeppelin           |"
   ]
  },
  {
   "cell_type": "markdown",
   "id": "9f24c997-0e38-47b7-aedd-f58a10dd7d6c",
   "metadata": {},
   "source": [
    "### Below are a few examples of evaluating arithmetic expressions in Python.\n",
    "\n",
    "1. Addition: `5 + 3` evaluates to `8`.\n",
    "2. Subtraction: `10 - 4` evaluates to `6`.\n",
    "3. Multiplication: `7 * 2` evaluates to `14`.\n",
    "4. Division: `20 / 5` evaluates to `4.0`.\n",
    "5. Exponentiation: `2 ** 3` evaluates to `8`.\n",
    "6. Modulus: `10 % 3` evaluates to `1`.\n"
   ]
  },
  {
   "cell_type": "code",
   "execution_count": 13,
   "id": "55a4e630-23e8-44b0-a3d5-a914bb49f4c8",
   "metadata": {},
   "outputs": [
    {
     "data": {
      "text/plain": [
       "17"
      ]
     },
     "execution_count": 13,
     "metadata": {},
     "output_type": "execute_result"
    }
   ],
   "source": [
    "# This is a simple arithmetic expression to multiply then add integers.\n",
    "(3 * 4) + 5\n"
   ]
  },
  {
   "cell_type": "code",
   "execution_count": 15,
   "id": "a46af706-6ebe-47f5-83ad-2e3945baa854",
   "metadata": {},
   "outputs": [
    {
     "data": {
      "text/plain": [
       "3.3333333333333335"
      ]
     },
     "execution_count": 15,
     "metadata": {},
     "output_type": "execute_result"
    }
   ],
   "source": [
    "# This will convert 200 minutes to hours by dividing by 60.\n",
    "200 / 60\n"
   ]
  },
  {
   "cell_type": "markdown",
   "id": "bbaf50f1-4a11-435b-bc8a-cb4ba7176de0",
   "metadata": {},
   "source": [
    "**Objectives:**\n",
    "\n",
    "- List popular languages for Data Science.  \n",
    "- Identify commonly used libraries in Data Science.  \n",
    "- Introduce open-source tools used for development in Data Science.  \n",
    "- Demonstrate examples of evaluating arithmetic expressions in Python.  \n",
    "- Convert units, such as minutes into hours, using Python expressions.  \n"
   ]
  },
  {
   "cell_type": "markdown",
   "id": "3f58bb55-d71a-4a20-b08a-393de774bfb7",
   "metadata": {},
   "source": [
    "## Author(s)\n",
    "\n",
    "Prasenjit\n"
   ]
  },
  {
   "cell_type": "code",
   "execution_count": null,
   "id": "b04f811f-f646-4ae3-b3c6-a2a4185830d3",
   "metadata": {},
   "outputs": [],
   "source": []
  }
 ],
 "metadata": {
  "kernelspec": {
   "display_name": "Python [conda env:base] *",
   "language": "python",
   "name": "conda-base-py"
  },
  "language_info": {
   "codemirror_mode": {
    "name": "ipython",
    "version": 3
   },
   "file_extension": ".py",
   "mimetype": "text/x-python",
   "name": "python",
   "nbconvert_exporter": "python",
   "pygments_lexer": "ipython3",
   "version": "3.12.7"
  }
 },
 "nbformat": 4,
 "nbformat_minor": 5
}
